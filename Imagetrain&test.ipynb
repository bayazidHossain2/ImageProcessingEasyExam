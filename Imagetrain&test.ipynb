{
  "nbformat": 4,
  "nbformat_minor": 0,
  "metadata": {
    "colab": {
      "provenance": []
    },
    "kernelspec": {
      "name": "python3",
      "display_name": "Python 3"
    },
    "language_info": {
      "name": "python"
    }
  },
  "cells": [
    {
      "cell_type": "code",
      "execution_count": 1,
      "metadata": {
        "id": "2V60ZxxIK-Cu"
      },
      "outputs": [],
      "source": [
        "import cv2\n",
        "import os\n",
        "import random\n",
        "import numpy as np \n",
        "import matplotlib.pyplot as plt \n",
        "\n",
        "# img = cv2.imread(\"img/test.jpg\")\n",
        "# img = cv2.resize(img,(625,810))\n",
        "# plt.imshow(img)\n",
        "# print(img.shape)\n"
      ]
    },
    {
      "cell_type": "code",
      "source": [
        "dir = r\"img\"\n",
        "catagories = ['bbox','fbox']"
      ],
      "metadata": {
        "id": "ZAjtqpWmNyU9"
      },
      "execution_count": 3,
      "outputs": []
    },
    {
      "cell_type": "code",
      "source": [
        "data = list()\n",
        "for catagory in catagories:\n",
        "  folder = os.path.join(dir,catagory)\n",
        "  print(folder)\n",
        "  label = catagories.index(catagory)\n",
        "\n",
        "  for img in os.listdir(folder):\n",
        "    img = os.path.join(folder,img)\n",
        "    #print(img)\n",
        "    img_arr = cv2.imread(img)\n",
        "    img_arr = cv2.resize(img_arr,(60,25))\n",
        "    data.append([img_arr,label])\n"
      ],
      "metadata": {
        "colab": {
          "base_uri": "https://localhost:8080/"
        },
        "id": "UmqlMv7oRP1O",
        "outputId": "b4c2c017-7510-45ca-d6cb-beaa32e9adc0"
      },
      "execution_count": 21,
      "outputs": [
        {
          "output_type": "stream",
          "name": "stdout",
          "text": [
            "img/bbox\n",
            "img/fbox\n"
          ]
        }
      ]
    },
    {
      "cell_type": "code",
      "source": [
        "random.shuffle(data)\n"
      ],
      "metadata": {
        "id": "GyaGeEOFRgbY"
      },
      "execution_count": 22,
      "outputs": []
    },
    {
      "cell_type": "code",
      "source": [
        "x = list()\n",
        "y = list()\n",
        "for features,label in data:\n",
        "  x.append(features)\n",
        "  y.append(label)\n",
        "\n",
        "print(y)"
      ],
      "metadata": {
        "colab": {
          "base_uri": "https://localhost:8080/"
        },
        "id": "And4J818SEXN",
        "outputId": "c75df52f-46aa-493e-e5a9-ebd6da30da97"
      },
      "execution_count": 24,
      "outputs": [
        {
          "output_type": "stream",
          "name": "stdout",
          "text": [
            "[0, 1, 1, 0, 0, 0, 1, 1, 1, 1, 1, 0, 1, 1, 1, 1, 1, 0, 0, 0, 0, 1, 0, 0, 0, 1, 1, 0, 1, 0, 0, 0, 1, 1, 0, 1, 0, 1, 0, 0, 1, 1, 1, 1, 1, 0, 1, 0, 0, 0, 0, 1, 1, 1, 1, 0, 1, 1, 0, 1, 0, 1, 0, 1, 1, 0, 1, 1, 1, 1, 1, 1, 0, 1, 0, 0, 0, 0, 1, 0, 1, 0, 0, 0, 1, 0, 0, 1, 1, 1, 1, 0, 0, 1, 0, 0, 1, 1, 0, 1, 0, 1, 1, 0, 1, 0, 0, 1, 0, 1, 1, 1, 1, 0, 1, 1, 0, 0, 0, 0, 1, 0, 0, 0, 0, 0, 0, 1, 1, 0, 1, 0, 1, 0, 1, 1, 0, 1, 1, 1, 0, 1, 0, 0, 1, 0, 1, 1, 1, 1, 0, 1, 0, 1, 1, 0, 0, 0, 1, 0, 1, 1, 0, 0, 0, 0, 1, 1, 0, 0, 1, 0, 1, 0, 0, 1, 1, 1, 0, 0, 1, 0, 1, 0, 1, 0, 1, 1, 0, 1, 1, 0, 1, 1, 1, 1, 0, 0, 1, 1, 1, 1, 0, 1, 0, 1, 1, 1, 0, 0, 1, 0, 1, 1, 0, 1, 0, 1, 1, 1, 1, 0, 0, 1, 1, 0, 0, 0, 1, 1, 1, 1, 1, 0, 1, 1, 1, 0, 1, 0, 1, 1, 0, 0, 0, 0, 0, 0, 0, 0, 1, 1, 1, 0, 0, 1, 1, 1, 0, 1]\n"
          ]
        }
      ]
    },
    {
      "cell_type": "code",
      "source": [
        "x = np.array(x)\n",
        "y = np.array(y)\n",
        "print(x)"
      ],
      "metadata": {
        "colab": {
          "base_uri": "https://localhost:8080/"
        },
        "id": "l_6scgo9SdGQ",
        "outputId": "9f25f338-05e4-4f3c-f564-afb83568da57"
      },
      "execution_count": 25,
      "outputs": [
        {
          "output_type": "stream",
          "name": "stdout",
          "text": [
            "[[[[254 254 254]\n",
            "   [255 255 255]\n",
            "   [254 254 254]\n",
            "   ...\n",
            "   [255 255 255]\n",
            "   [255 255 255]\n",
            "   [255 255 255]]\n",
            "\n",
            "  [[255 255 255]\n",
            "   [255 255 255]\n",
            "   [254 254 254]\n",
            "   ...\n",
            "   [255 255 255]\n",
            "   [255 255 255]\n",
            "   [255 255 255]]\n",
            "\n",
            "  [[255 255 255]\n",
            "   [255 255 255]\n",
            "   [254 254 254]\n",
            "   ...\n",
            "   [255 255 255]\n",
            "   [255 255 255]\n",
            "   [255 255 255]]\n",
            "\n",
            "  ...\n",
            "\n",
            "  [[255 255 255]\n",
            "   [255 255 255]\n",
            "   [254 254 254]\n",
            "   ...\n",
            "   [254 254 254]\n",
            "   [254 254 254]\n",
            "   [254 254 254]]\n",
            "\n",
            "  [[255 255 255]\n",
            "   [255 255 255]\n",
            "   [254 254 254]\n",
            "   ...\n",
            "   [254 254 254]\n",
            "   [255 255 255]\n",
            "   [254 254 254]]\n",
            "\n",
            "  [[255 255 255]\n",
            "   [255 255 255]\n",
            "   [255 255 255]\n",
            "   ...\n",
            "   [255 255 255]\n",
            "   [255 255 255]\n",
            "   [255 255 255]]]\n",
            "\n",
            "\n",
            " [[[129 177 159]\n",
            "   [131 179 161]\n",
            "   [134 182 164]\n",
            "   ...\n",
            "   [142 184 166]\n",
            "   [140 182 164]\n",
            "   [139 181 163]]\n",
            "\n",
            "  [[129 177 159]\n",
            "   [130 178 160]\n",
            "   [132 180 162]\n",
            "   ...\n",
            "   [141 183 165]\n",
            "   [141 183 165]\n",
            "   [140 182 164]]\n",
            "\n",
            "  [[133 181 163]\n",
            "   [132 180 162]\n",
            "   [134 182 164]\n",
            "   ...\n",
            "   [145 187 169]\n",
            "   [142 184 167]\n",
            "   [140 182 165]]\n",
            "\n",
            "  ...\n",
            "\n",
            "  [[127 175 157]\n",
            "   [130 178 160]\n",
            "   [130 178 160]\n",
            "   ...\n",
            "   [138 180 163]\n",
            "   [140 182 165]\n",
            "   [137 179 162]]\n",
            "\n",
            "  [[130 178 160]\n",
            "   [130 178 160]\n",
            "   [127 175 157]\n",
            "   ...\n",
            "   [141 183 166]\n",
            "   [142 184 167]\n",
            "   [144 186 169]]\n",
            "\n",
            "  [[131 179 161]\n",
            "   [133 181 163]\n",
            "   [132 180 162]\n",
            "   ...\n",
            "   [142 184 167]\n",
            "   [142 184 167]\n",
            "   [143 185 168]]]\n",
            "\n",
            "\n",
            " [[[ 89 178 169]\n",
            "   [ 89 178 169]\n",
            "   [ 88 177 168]\n",
            "   ...\n",
            "   [ 92 183 174]\n",
            "   [ 93 184 175]\n",
            "   [ 92 183 174]]\n",
            "\n",
            "  [[ 87 176 167]\n",
            "   [ 87 176 167]\n",
            "   [ 88 177 168]\n",
            "   ...\n",
            "   [ 91 182 173]\n",
            "   [ 91 182 173]\n",
            "   [ 91 182 173]]\n",
            "\n",
            "  [[ 85 174 165]\n",
            "   [ 87 176 167]\n",
            "   [ 88 177 168]\n",
            "   ...\n",
            "   [ 92 181 172]\n",
            "   [ 93 182 173]\n",
            "   [ 92 181 172]]\n",
            "\n",
            "  ...\n",
            "\n",
            "  [[ 88 177 168]\n",
            "   [ 88 177 168]\n",
            "   [ 88 177 168]\n",
            "   ...\n",
            "   [ 88 179 170]\n",
            "   [ 88 179 170]\n",
            "   [ 89 180 171]]\n",
            "\n",
            "  [[ 88 177 168]\n",
            "   [ 88 177 168]\n",
            "   [ 87 176 167]\n",
            "   ...\n",
            "   [ 87 178 169]\n",
            "   [ 88 179 170]\n",
            "   [ 89 180 171]]\n",
            "\n",
            "  [[ 88 177 168]\n",
            "   [ 88 177 168]\n",
            "   [ 88 177 168]\n",
            "   ...\n",
            "   [ 90 179 170]\n",
            "   [ 90 179 170]\n",
            "   [ 91 180 171]]]\n",
            "\n",
            "\n",
            " ...\n",
            "\n",
            "\n",
            " [[[ 84 174 168]\n",
            "   [ 83 173 167]\n",
            "   [ 83 174 165]\n",
            "   ...\n",
            "   [ 81 172 163]\n",
            "   [ 81 172 163]\n",
            "   [ 81 172 163]]\n",
            "\n",
            "  [[ 83 173 167]\n",
            "   [ 83 173 167]\n",
            "   [ 83 174 165]\n",
            "   ...\n",
            "   [ 81 172 163]\n",
            "   [ 81 172 163]\n",
            "   [ 81 172 163]]\n",
            "\n",
            "  [[ 83 174 165]\n",
            "   [ 82 173 164]\n",
            "   [ 82 173 164]\n",
            "   ...\n",
            "   [ 80 171 162]\n",
            "   [ 81 172 163]\n",
            "   [ 81 172 163]]\n",
            "\n",
            "  ...\n",
            "\n",
            "  [[ 78 172 161]\n",
            "   [ 78 172 161]\n",
            "   [ 78 172 161]\n",
            "   ...\n",
            "   [ 73 169 159]\n",
            "   [ 76 172 162]\n",
            "   [ 77 173 163]]\n",
            "\n",
            "  [[ 78 172 161]\n",
            "   [ 78 172 161]\n",
            "   [ 77 171 160]\n",
            "   ...\n",
            "   [ 74 170 160]\n",
            "   [ 75 171 161]\n",
            "   [ 75 171 161]]\n",
            "\n",
            "  [[ 80 172 161]\n",
            "   [ 80 172 161]\n",
            "   [ 79 170 161]\n",
            "   ...\n",
            "   [ 77 170 161]\n",
            "   [ 77 170 161]\n",
            "   [ 78 171 162]]]\n",
            "\n",
            "\n",
            " [[[168 182 171]\n",
            "   [166 180 169]\n",
            "   [166 180 169]\n",
            "   ...\n",
            "   [168 182 171]\n",
            "   [167 181 170]\n",
            "   [168 182 171]]\n",
            "\n",
            "  [[168 182 171]\n",
            "   [167 181 170]\n",
            "   [168 182 171]\n",
            "   ...\n",
            "   [168 182 171]\n",
            "   [171 185 174]\n",
            "   [164 178 167]]\n",
            "\n",
            "  [[167 181 170]\n",
            "   [168 182 171]\n",
            "   [169 183 172]\n",
            "   ...\n",
            "   [166 180 169]\n",
            "   [170 184 173]\n",
            "   [166 180 169]]\n",
            "\n",
            "  ...\n",
            "\n",
            "  [[168 182 171]\n",
            "   [168 182 171]\n",
            "   [168 182 171]\n",
            "   ...\n",
            "   [170 181 171]\n",
            "   [168 182 171]\n",
            "   [167 181 170]]\n",
            "\n",
            "  [[168 182 171]\n",
            "   [168 182 171]\n",
            "   [168 182 171]\n",
            "   ...\n",
            "   [170 181 171]\n",
            "   [168 182 171]\n",
            "   [167 181 170]]\n",
            "\n",
            "  [[169 183 172]\n",
            "   [169 183 172]\n",
            "   [169 183 172]\n",
            "   ...\n",
            "   [170 181 171]\n",
            "   [167 181 170]\n",
            "   [168 182 171]]]\n",
            "\n",
            "\n",
            " [[[167 195 189]\n",
            "   [167 195 189]\n",
            "   [169 195 189]\n",
            "   ...\n",
            "   [168 194 188]\n",
            "   [168 194 188]\n",
            "   [167 193 187]]\n",
            "\n",
            "  [[167 195 189]\n",
            "   [168 196 190]\n",
            "   [170 196 190]\n",
            "   ...\n",
            "   [167 193 187]\n",
            "   [166 192 186]\n",
            "   [167 193 187]]\n",
            "\n",
            "  [[166 194 188]\n",
            "   [166 194 188]\n",
            "   [168 194 188]\n",
            "   ...\n",
            "   [165 191 185]\n",
            "   [165 191 185]\n",
            "   [166 192 186]]\n",
            "\n",
            "  ...\n",
            "\n",
            "  [[166 192 186]\n",
            "   [166 192 186]\n",
            "   [166 192 186]\n",
            "   ...\n",
            "   [167 193 187]\n",
            "   [165 191 185]\n",
            "   [164 190 184]]\n",
            "\n",
            "  [[168 194 188]\n",
            "   [168 194 188]\n",
            "   [168 194 188]\n",
            "   ...\n",
            "   [166 192 186]\n",
            "   [164 190 184]\n",
            "   [164 190 184]]\n",
            "\n",
            "  [[166 192 186]\n",
            "   [169 195 189]\n",
            "   [167 193 187]\n",
            "   ...\n",
            "   [165 191 185]\n",
            "   [165 191 185]\n",
            "   [165 191 185]]]]\n"
          ]
        }
      ]
    },
    {
      "cell_type": "code",
      "source": [
        "x = x/255\n",
        "#print(x)"
      ],
      "metadata": {
        "id": "rzOHY_mMSdHw"
      },
      "execution_count": null,
      "outputs": []
    },
    {
      "cell_type": "code",
      "source": [
        "import tensorflow as tf\n",
        "from tensorflow import keras\n",
        "from tensorflow.keras.models import Sequential\n",
        "from tensorflow.keras.layers import Conv2D,MaxPooling2D,Flatten,Dense,Activation"
      ],
      "metadata": {
        "id": "HkFZJaU6SdK-"
      },
      "execution_count": 26,
      "outputs": []
    },
    {
      "cell_type": "code",
      "source": [
        "model = Sequential()\n",
        "model.add(Conv2D(30,(3,3),input_shape=x.shape[1:],activation='relu'))\n",
        "model.add(MaxPooling2D(pool_size=(2,2)))\n",
        "\n",
        "model.add(Conv2D(30,(3,3),input_shape=x.shape[1:],activation='relu'))\n",
        "model.add(MaxPooling2D(pool_size=(2,2)))\n",
        "\n",
        "model.add(Flatten())\n",
        "model.add(Dense(2,activation='softmax'))\n"
      ],
      "metadata": {
        "id": "QK5oMvAFSdMZ"
      },
      "execution_count": 39,
      "outputs": []
    },
    {
      "cell_type": "code",
      "source": [
        "model.compile(loss='sparse_categorical_crossentropy',optimizer='adam',metrics=['accuracy'])"
      ],
      "metadata": {
        "id": "9sZ7cYL4UV3Z"
      },
      "execution_count": 40,
      "outputs": []
    },
    {
      "cell_type": "code",
      "source": [
        "model.fit(x,y,epochs=15,validation_split=0.1)"
      ],
      "metadata": {
        "colab": {
          "base_uri": "https://localhost:8080/"
        },
        "id": "6p4i_9euh6BF",
        "outputId": "eb09a2c1-b05a-4877-e6ed-0808902145d7"
      },
      "execution_count": 41,
      "outputs": [
        {
          "output_type": "stream",
          "name": "stdout",
          "text": [
            "Epoch 1/15\n",
            "8/8 [==============================] - 1s 70ms/step - loss: 9.3043 - accuracy: 0.5598 - val_loss: 7.6056 - val_accuracy: 0.5000\n",
            "Epoch 2/15\n",
            "8/8 [==============================] - 0s 54ms/step - loss: 2.3931 - accuracy: 0.6966 - val_loss: 1.9321 - val_accuracy: 0.6923\n",
            "Epoch 3/15\n",
            "8/8 [==============================] - 0s 50ms/step - loss: 2.4690 - accuracy: 0.6667 - val_loss: 2.6837 - val_accuracy: 0.6538\n",
            "Epoch 4/15\n",
            "8/8 [==============================] - 0s 52ms/step - loss: 1.4773 - accuracy: 0.7479 - val_loss: 1.0320 - val_accuracy: 0.7692\n",
            "Epoch 5/15\n",
            "8/8 [==============================] - 0s 50ms/step - loss: 1.0274 - accuracy: 0.8162 - val_loss: 0.9014 - val_accuracy: 0.9231\n",
            "Epoch 6/15\n",
            "8/8 [==============================] - 0s 48ms/step - loss: 0.6409 - accuracy: 0.8761 - val_loss: 0.9575 - val_accuracy: 0.8846\n",
            "Epoch 7/15\n",
            "8/8 [==============================] - 0s 49ms/step - loss: 0.5913 - accuracy: 0.8675 - val_loss: 0.9286 - val_accuracy: 0.8462\n",
            "Epoch 8/15\n",
            "8/8 [==============================] - 0s 49ms/step - loss: 0.8681 - accuracy: 0.8547 - val_loss: 1.9842 - val_accuracy: 0.6538\n",
            "Epoch 9/15\n",
            "8/8 [==============================] - 0s 51ms/step - loss: 0.8486 - accuracy: 0.8034 - val_loss: 0.8602 - val_accuracy: 0.9231\n",
            "Epoch 10/15\n",
            "8/8 [==============================] - 0s 49ms/step - loss: 0.2748 - accuracy: 0.9359 - val_loss: 0.6183 - val_accuracy: 0.9615\n",
            "Epoch 11/15\n",
            "8/8 [==============================] - 0s 49ms/step - loss: 0.1745 - accuracy: 0.9658 - val_loss: 0.5203 - val_accuracy: 0.9615\n",
            "Epoch 12/15\n",
            "8/8 [==============================] - 0s 51ms/step - loss: 0.2200 - accuracy: 0.9444 - val_loss: 0.4322 - val_accuracy: 0.9615\n",
            "Epoch 13/15\n",
            "8/8 [==============================] - 0s 48ms/step - loss: 0.1678 - accuracy: 0.9615 - val_loss: 0.3923 - val_accuracy: 0.9615\n",
            "Epoch 14/15\n",
            "8/8 [==============================] - 0s 51ms/step - loss: 0.0862 - accuracy: 0.9658 - val_loss: 0.5597 - val_accuracy: 0.9615\n",
            "Epoch 15/15\n",
            "8/8 [==============================] - 0s 50ms/step - loss: 0.0565 - accuracy: 0.9829 - val_loss: 0.5708 - val_accuracy: 0.9615\n"
          ]
        },
        {
          "output_type": "execute_result",
          "data": {
            "text/plain": [
              "<keras.callbacks.History at 0x7f9dbe79a1f0>"
            ]
          },
          "metadata": {},
          "execution_count": 41
        }
      ]
    },
    {
      "cell_type": "code",
      "source": [
        "model.summary()"
      ],
      "metadata": {
        "colab": {
          "base_uri": "https://localhost:8080/"
        },
        "id": "sXliRxGC8-H6",
        "outputId": "9a99e62b-f104-4064-bb1d-63255022d904"
      },
      "execution_count": 42,
      "outputs": [
        {
          "output_type": "stream",
          "name": "stdout",
          "text": [
            "Model: \"sequential_2\"\n",
            "_________________________________________________________________\n",
            " Layer (type)                Output Shape              Param #   \n",
            "=================================================================\n",
            " conv2d_4 (Conv2D)           (None, 23, 58, 30)        840       \n",
            "                                                                 \n",
            " max_pooling2d_4 (MaxPooling  (None, 11, 29, 30)       0         \n",
            " 2D)                                                             \n",
            "                                                                 \n",
            " conv2d_5 (Conv2D)           (None, 9, 27, 30)         8130      \n",
            "                                                                 \n",
            " max_pooling2d_5 (MaxPooling  (None, 4, 13, 30)        0         \n",
            " 2D)                                                             \n",
            "                                                                 \n",
            " flatten_2 (Flatten)         (None, 1560)              0         \n",
            "                                                                 \n",
            " dense_2 (Dense)             (None, 2)                 3122      \n",
            "                                                                 \n",
            "=================================================================\n",
            "Total params: 12,092\n",
            "Trainable params: 12,092\n",
            "Non-trainable params: 0\n",
            "_________________________________________________________________\n"
          ]
        }
      ]
    },
    {
      "cell_type": "code",
      "source": [
        "from keras.preprocessing import image\n",
        "import numpy as np\n",
        "c = 0\n",
        "for i in range(5):\n",
        "  for j in range(4):\n",
        "    st = '2ci '+str(i)+' '+str(j)+'.jpg'\n",
        "    print('reading :',st)\n",
        "    img_pred = cv2.imread(r\"img/test/\"+st)\n",
        "    img_pred = cv2.resize(img_pred,(60,25))\n",
        "    img_pred = np.expand_dims(img_pred,axis=0)\n",
        "    img_pred = np.array(img_pred)\n",
        "    res = model.predict(img_pred)\n",
        "    print(res)\n",
        "\n",
        "    if res[0][0] > res[0][1]:\n",
        "      print('Filled')\n",
        "    else:\n",
        "      print('Blanked')"
      ],
      "metadata": {
        "colab": {
          "base_uri": "https://localhost:8080/"
        },
        "id": "OFBkxo2H-iiw",
        "outputId": "05190ace-5c38-463a-a44b-f83cfa2ad317"
      },
      "execution_count": 55,
      "outputs": [
        {
          "output_type": "stream",
          "name": "stdout",
          "text": [
            "reading : 2ci 0 0.jpg\n",
            "1/1 [==============================] - 0s 20ms/step\n",
            "[[7.321319e-06 9.999927e-01]]\n",
            "Filled\n",
            "reading : 2ci 0 1.jpg\n",
            "1/1 [==============================] - 0s 33ms/step\n",
            "[[4.3291777e-07 9.9999952e-01]]\n",
            "Filled\n",
            "reading : 2ci 0 2.jpg\n",
            "1/1 [==============================] - 0s 21ms/step\n",
            "[[4.8150848e-09 1.0000000e+00]]\n",
            "Filled\n",
            "reading : 2ci 0 3.jpg\n",
            "1/1 [==============================] - 0s 20ms/step\n",
            "[[2.0872490e-05 9.9997914e-01]]\n",
            "Filled\n",
            "reading : 2ci 1 0.jpg\n",
            "1/1 [==============================] - 0s 21ms/step\n",
            "[[1.6175235e-04 9.9983823e-01]]\n",
            "Filled\n",
            "reading : 2ci 1 1.jpg\n",
            "1/1 [==============================] - 0s 25ms/step\n",
            "[[1.6360003e-05 9.9998367e-01]]\n",
            "Filled\n",
            "reading : 2ci 1 2.jpg\n",
            "1/1 [==============================] - 0s 22ms/step\n",
            "[[6.241526e-06 9.999938e-01]]\n",
            "Filled\n",
            "reading : 2ci 1 3.jpg\n",
            "1/1 [==============================] - 0s 22ms/step\n",
            "[[1.3065775e-04 9.9986935e-01]]\n",
            "Filled\n",
            "reading : 2ci 2 0.jpg\n",
            "1/1 [==============================] - 0s 31ms/step\n",
            "[[6.4942396e-05 9.9993503e-01]]\n",
            "Filled\n",
            "reading : 2ci 2 1.jpg\n",
            "1/1 [==============================] - 0s 26ms/step\n",
            "[[2.8268714e-04 9.9971730e-01]]\n",
            "Filled\n",
            "reading : 2ci 2 2.jpg\n",
            "1/1 [==============================] - 0s 26ms/step\n",
            "[[5.0149084e-04 9.9949849e-01]]\n",
            "Filled\n",
            "reading : 2ci 2 3.jpg\n",
            "1/1 [==============================] - 0s 19ms/step\n",
            "[[7.8387826e-04 9.9921608e-01]]\n",
            "Filled\n",
            "reading : 2ci 3 0.jpg\n",
            "1/1 [==============================] - 0s 29ms/step\n",
            "[[6.8836793e-04 9.9931169e-01]]\n",
            "Filled\n",
            "reading : 2ci 3 1.jpg\n",
            "1/1 [==============================] - 0s 26ms/step\n",
            "[[9.4491261e-05 9.9990547e-01]]\n",
            "Filled\n",
            "reading : 2ci 3 2.jpg\n",
            "1/1 [==============================] - 0s 32ms/step\n",
            "[[6.070821e-06 9.999939e-01]]\n",
            "Filled\n",
            "reading : 2ci 3 3.jpg\n",
            "1/1 [==============================] - 0s 20ms/step\n",
            "[[3.2847009e-07 9.9999964e-01]]\n",
            "Filled\n",
            "reading : 2ci 4 0.jpg\n",
            "1/1 [==============================] - 0s 20ms/step\n",
            "[[7.595421e-08 9.999999e-01]]\n",
            "Filled\n",
            "reading : 2ci 4 1.jpg\n",
            "1/1 [==============================] - 0s 25ms/step\n",
            "[[1.4083843e-08 1.0000000e+00]]\n",
            "Filled\n",
            "reading : 2ci 4 2.jpg\n",
            "1/1 [==============================] - 0s 23ms/step\n",
            "[[7.465783e-11 1.000000e+00]]\n",
            "Filled\n",
            "reading : 2ci 4 3.jpg\n",
            "1/1 [==============================] - 0s 25ms/step\n",
            "[[7.4266344e-09 1.0000000e+00]]\n",
            "Filled\n"
          ]
        }
      ]
    },
    {
      "cell_type": "code",
      "source": [
        "from keras.preprocessing import image\n",
        "import numpy as np\n",
        "st = '1ci 0 3.jpg'\n",
        "print('reading :',st)\n",
        "img_pred = cv2.imread(r\"img/test/\"+st)\n",
        "img_pred = cv2.resize(img_pred,(60,25))\n",
        "img_pred = np.expand_dims(img_pred,axis=0)\n",
        "img_pred = np.array(img_pred)\n",
        "res = model.predict(img_pred)\n",
        "print(res)\n",
        "\n",
        "if res[0][0] > res[0][1]:\n",
        "  print('Filled')\n",
        "else:\n",
        "  print('Blanked')"
      ],
      "metadata": {
        "colab": {
          "base_uri": "https://localhost:8080/"
        },
        "id": "p9hgGvpHHLVp",
        "outputId": "309f0749-cb47-455a-b306-c50ca9dd5339"
      },
      "execution_count": 62,
      "outputs": [
        {
          "output_type": "stream",
          "name": "stdout",
          "text": [
            "reading : 1ci 0 3.jpg\n",
            "1/1 [==============================] - 0s 21ms/step\n",
            "[[9.9995506e-01 4.4911369e-05]]\n",
            "Filled\n"
          ]
        }
      ]
    }
  ]
}