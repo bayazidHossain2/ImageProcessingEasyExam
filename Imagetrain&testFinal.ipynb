{
  "nbformat": 4,
  "nbformat_minor": 0,
  "metadata": {
    "colab": {
      "provenance": [],
      "include_colab_link": true
    },
    "kernelspec": {
      "name": "python3",
      "display_name": "Python 3"
    },
    "language_info": {
      "name": "python"
    }
  },
  "cells": [
    {
      "cell_type": "markdown",
      "metadata": {
        "id": "view-in-github",
        "colab_type": "text"
      },
      "source": [
        "<a href=\"https://colab.research.google.com/github/bayazidHossain2/ImageProcessingEasyExam/blob/main/Imagetrain%26testFinal.ipynb\" target=\"_parent\"><img src=\"https://colab.research.google.com/assets/colab-badge.svg\" alt=\"Open In Colab\"/></a>"
      ]
    },
    {
      "cell_type": "code",
      "execution_count": 1,
      "metadata": {
        "id": "2V60ZxxIK-Cu"
      },
      "outputs": [],
      "source": [
        "import cv2\n",
        "import os\n",
        "import random\n",
        "import numpy as np \n",
        "import matplotlib.pyplot as plt \n",
        "\n",
        "# img = cv2.imread(\"img/test.jpg\")\n",
        "# img = cv2.resize(img,(625,810))\n",
        "# plt.imshow(img)\n",
        "# print(img.shape)\n"
      ]
    },
    {
      "cell_type": "code",
      "source": [
        "dir = r\"img\"\n",
        "catagories = ['bbox','fbox']"
      ],
      "metadata": {
        "id": "ZAjtqpWmNyU9"
      },
      "execution_count": 2,
      "outputs": []
    },
    {
      "cell_type": "code",
      "source": [
        "data = list()\n",
        "for catagory in catagories:\n",
        "  folder = os.path.join(dir,catagory)\n",
        "  print(folder)\n",
        "  label = catagories.index(catagory)\n",
        "\n",
        "  for img in os.listdir(folder):\n",
        "    img = os.path.join(folder,img)\n",
        "    #print(img)\n",
        "    img_arr = cv2.imread(img)\n",
        "    img_arr = cv2.resize(img_arr,(60,25))\n",
        "    data.append([img_arr,label])\n"
      ],
      "metadata": {
        "colab": {
          "base_uri": "https://localhost:8080/"
        },
        "id": "UmqlMv7oRP1O",
        "outputId": "4dc78fde-f850-4ee6-d208-bf76f844537f"
      },
      "execution_count": 3,
      "outputs": [
        {
          "output_type": "stream",
          "name": "stdout",
          "text": [
            "img/bbox\n",
            "img/fbox\n"
          ]
        }
      ]
    },
    {
      "cell_type": "code",
      "source": [
        "random.shuffle(data)\n"
      ],
      "metadata": {
        "id": "GyaGeEOFRgbY"
      },
      "execution_count": 4,
      "outputs": []
    },
    {
      "cell_type": "code",
      "source": [
        "x = list()\n",
        "y = list()\n",
        "for features,label in data:\n",
        "  x.append(features)\n",
        "  y.append(label)\n",
        "\n",
        "print(len(y))"
      ],
      "metadata": {
        "colab": {
          "base_uri": "https://localhost:8080/"
        },
        "id": "And4J818SEXN",
        "outputId": "9374c220-bd75-4304-9f98-998577dd6ec5"
      },
      "execution_count": 7,
      "outputs": [
        {
          "output_type": "stream",
          "name": "stdout",
          "text": [
            "420\n"
          ]
        }
      ]
    },
    {
      "cell_type": "code",
      "source": [
        "x = np.array(x)\n",
        "y = np.array(y)\n",
        "# print(x)"
      ],
      "metadata": {
        "id": "l_6scgo9SdGQ"
      },
      "execution_count": null,
      "outputs": []
    },
    {
      "cell_type": "code",
      "source": [
        "x = x/255\n",
        "#print(x)"
      ],
      "metadata": {
        "id": "rzOHY_mMSdHw"
      },
      "execution_count": 9,
      "outputs": []
    },
    {
      "cell_type": "code",
      "source": [
        "import tensorflow as tf\n",
        "from tensorflow import keras\n",
        "from tensorflow.keras.models import Sequential\n",
        "from tensorflow.keras.layers import Conv2D,MaxPooling2D,Flatten,Dense,Activation"
      ],
      "metadata": {
        "id": "HkFZJaU6SdK-"
      },
      "execution_count": 11,
      "outputs": []
    },
    {
      "cell_type": "code",
      "source": [
        "model = Sequential()\n",
        "model.add(Conv2D(30,(3,3),input_shape=x.shape[1:],activation='relu'))\n",
        "model.add(MaxPooling2D(pool_size=(2,2)))\n",
        "\n",
        "model.add(Conv2D(20,(3,3),input_shape=x.shape[1:],activation='relu'))\n",
        "model.add(MaxPooling2D(pool_size=(2,2)))\n",
        "\n",
        "model.add(Conv2D(10,(3,3),input_shape=x.shape[1:],activation='relu'))\n",
        "model.add(MaxPooling2D(pool_size=(2,2)))\n",
        "\n",
        "model.add(Flatten())\n",
        "model.add(Dense(2,activation='softmax'))\n"
      ],
      "metadata": {
        "id": "QK5oMvAFSdMZ"
      },
      "execution_count": 22,
      "outputs": []
    },
    {
      "cell_type": "code",
      "source": [
        "model.compile(loss='sparse_categorical_crossentropy',optimizer='adam',metrics=['accuracy'])"
      ],
      "metadata": {
        "id": "9sZ7cYL4UV3Z"
      },
      "execution_count": 23,
      "outputs": []
    },
    {
      "cell_type": "code",
      "source": [
        "model.fit(x,y,epochs=15,validation_split=0.1)"
      ],
      "metadata": {
        "colab": {
          "base_uri": "https://localhost:8080/"
        },
        "id": "6p4i_9euh6BF",
        "outputId": "3ed3b5f1-19d7-4737-895a-b44226b9be93"
      },
      "execution_count": 24,
      "outputs": [
        {
          "output_type": "stream",
          "name": "stdout",
          "text": [
            "Epoch 1/15\n",
            "12/12 [==============================] - 1s 42ms/step - loss: 0.6709 - accuracy: 0.5979 - val_loss: 0.6488 - val_accuracy: 0.6429\n",
            "Epoch 2/15\n",
            "12/12 [==============================] - 0s 33ms/step - loss: 0.5843 - accuracy: 0.7222 - val_loss: 0.6627 - val_accuracy: 0.6429\n",
            "Epoch 3/15\n",
            "12/12 [==============================] - 0s 32ms/step - loss: 0.5632 - accuracy: 0.7222 - val_loss: 0.6220 - val_accuracy: 0.6429\n",
            "Epoch 4/15\n",
            "12/12 [==============================] - 0s 32ms/step - loss: 0.5394 - accuracy: 0.7222 - val_loss: 0.6066 - val_accuracy: 0.6429\n",
            "Epoch 5/15\n",
            "12/12 [==============================] - 0s 32ms/step - loss: 0.5085 - accuracy: 0.7222 - val_loss: 0.5424 - val_accuracy: 0.6429\n",
            "Epoch 6/15\n",
            "12/12 [==============================] - 0s 32ms/step - loss: 0.4723 - accuracy: 0.7222 - val_loss: 0.5594 - val_accuracy: 0.6429\n",
            "Epoch 7/15\n",
            "12/12 [==============================] - 0s 34ms/step - loss: 0.4476 - accuracy: 0.7884 - val_loss: 0.4282 - val_accuracy: 0.7857\n",
            "Epoch 8/15\n",
            "12/12 [==============================] - 0s 32ms/step - loss: 0.3991 - accuracy: 0.7593 - val_loss: 0.3779 - val_accuracy: 0.8571\n",
            "Epoch 9/15\n",
            "12/12 [==============================] - 0s 31ms/step - loss: 0.3432 - accuracy: 0.8413 - val_loss: 0.3134 - val_accuracy: 0.9286\n",
            "Epoch 10/15\n",
            "12/12 [==============================] - 0s 32ms/step - loss: 0.2994 - accuracy: 0.8968 - val_loss: 0.2632 - val_accuracy: 0.9524\n",
            "Epoch 11/15\n",
            "12/12 [==============================] - 0s 32ms/step - loss: 0.2549 - accuracy: 0.9365 - val_loss: 0.2211 - val_accuracy: 0.9762\n",
            "Epoch 12/15\n",
            "12/12 [==============================] - 0s 33ms/step - loss: 0.2014 - accuracy: 0.9444 - val_loss: 0.1748 - val_accuracy: 0.9762\n",
            "Epoch 13/15\n",
            "12/12 [==============================] - 0s 33ms/step - loss: 0.1642 - accuracy: 0.9709 - val_loss: 0.1671 - val_accuracy: 0.9286\n",
            "Epoch 14/15\n",
            "12/12 [==============================] - 0s 32ms/step - loss: 0.1473 - accuracy: 0.9603 - val_loss: 0.1200 - val_accuracy: 0.9762\n",
            "Epoch 15/15\n",
            "12/12 [==============================] - 0s 32ms/step - loss: 0.1026 - accuracy: 0.9815 - val_loss: 0.0918 - val_accuracy: 0.9762\n"
          ]
        },
        {
          "output_type": "execute_result",
          "data": {
            "text/plain": [
              "<keras.callbacks.History at 0x7fb52a755a30>"
            ]
          },
          "metadata": {},
          "execution_count": 24
        }
      ]
    },
    {
      "cell_type": "code",
      "source": [
        "model.summary()"
      ],
      "metadata": {
        "colab": {
          "base_uri": "https://localhost:8080/"
        },
        "id": "sXliRxGC8-H6",
        "outputId": "4ca217c4-86fe-4bb0-f6ff-178b77bfe544"
      },
      "execution_count": 25,
      "outputs": [
        {
          "output_type": "stream",
          "name": "stdout",
          "text": [
            "Model: \"sequential_4\"\n",
            "_________________________________________________________________\n",
            " Layer (type)                Output Shape              Param #   \n",
            "=================================================================\n",
            " conv2d_12 (Conv2D)          (None, 23, 58, 30)        840       \n",
            "                                                                 \n",
            " max_pooling2d_11 (MaxPoolin  (None, 11, 29, 30)       0         \n",
            " g2D)                                                            \n",
            "                                                                 \n",
            " conv2d_13 (Conv2D)          (None, 9, 27, 20)         5420      \n",
            "                                                                 \n",
            " max_pooling2d_12 (MaxPoolin  (None, 4, 13, 20)        0         \n",
            " g2D)                                                            \n",
            "                                                                 \n",
            " conv2d_14 (Conv2D)          (None, 2, 11, 10)         1810      \n",
            "                                                                 \n",
            " max_pooling2d_13 (MaxPoolin  (None, 1, 5, 10)         0         \n",
            " g2D)                                                            \n",
            "                                                                 \n",
            " flatten_3 (Flatten)         (None, 50)                0         \n",
            "                                                                 \n",
            " dense_3 (Dense)             (None, 2)                 102       \n",
            "                                                                 \n",
            "=================================================================\n",
            "Total params: 8,172\n",
            "Trainable params: 8,172\n",
            "Non-trainable params: 0\n",
            "_________________________________________________________________\n"
          ]
        }
      ]
    },
    {
      "cell_type": "code",
      "source": [
        "tf.saved_model.save(model,\"saved_model_keras_dir\")\n",
        "converter = tf.lite.TFLiteConverter.from_keras_model(model)\n",
        "tflite_model = converter.convert()\n",
        "\n",
        "with open('checkMarkDetectorModel.tflite','wb') as f:\n",
        "  f.write(tflite_model)"
      ],
      "metadata": {
        "id": "87prtk-R-gZ9",
        "outputId": "e37b08b0-b25c-4547-d64e-019186de4516",
        "colab": {
          "base_uri": "https://localhost:8080/"
        }
      },
      "execution_count": 27,
      "outputs": [
        {
          "output_type": "stream",
          "name": "stderr",
          "text": [
            "WARNING:absl:Found untraced functions such as _jit_compiled_convolution_op, _jit_compiled_convolution_op, _jit_compiled_convolution_op while saving (showing 3 of 3). These functions will not be directly callable after loading.\n",
            "WARNING:absl:Found untraced functions such as _jit_compiled_convolution_op, _jit_compiled_convolution_op, _jit_compiled_convolution_op while saving (showing 3 of 3). These functions will not be directly callable after loading.\n"
          ]
        }
      ]
    },
    {
      "cell_type": "code",
      "source": [
        "from keras.preprocessing import image\n",
        "import numpy as np\n",
        "c = 0\n",
        "for i in range(5):\n",
        "  for j in range(4):\n",
        "    st = '2ci '+str(i)+' '+str(j)+'.jpg'\n",
        "    print('reading :',st)\n",
        "    img_pred = cv2.imread(r\"img/test/\"+st)\n",
        "    img_pred = cv2.resize(img_pred,(60,25))\n",
        "    img_pred = np.expand_dims(img_pred,axis=0)\n",
        "    img_pred = np.array(img_pred)\n",
        "    res = model.predict(img_pred)\n",
        "    print(res)\n",
        "\n",
        "    if res[0][0] > res[0][1]:\n",
        "      print('Filled')\n",
        "    else:\n",
        "      print('Blanked')"
      ],
      "metadata": {
        "colab": {
          "base_uri": "https://localhost:8080/"
        },
        "id": "OFBkxo2H-iiw",
        "outputId": "05190ace-5c38-463a-a44b-f83cfa2ad317"
      },
      "execution_count": null,
      "outputs": [
        {
          "output_type": "stream",
          "name": "stdout",
          "text": [
            "reading : 2ci 0 0.jpg\n",
            "1/1 [==============================] - 0s 20ms/step\n",
            "[[7.321319e-06 9.999927e-01]]\n",
            "Filled\n",
            "reading : 2ci 0 1.jpg\n",
            "1/1 [==============================] - 0s 33ms/step\n",
            "[[4.3291777e-07 9.9999952e-01]]\n",
            "Filled\n",
            "reading : 2ci 0 2.jpg\n",
            "1/1 [==============================] - 0s 21ms/step\n",
            "[[4.8150848e-09 1.0000000e+00]]\n",
            "Filled\n",
            "reading : 2ci 0 3.jpg\n",
            "1/1 [==============================] - 0s 20ms/step\n",
            "[[2.0872490e-05 9.9997914e-01]]\n",
            "Filled\n",
            "reading : 2ci 1 0.jpg\n",
            "1/1 [==============================] - 0s 21ms/step\n",
            "[[1.6175235e-04 9.9983823e-01]]\n",
            "Filled\n",
            "reading : 2ci 1 1.jpg\n",
            "1/1 [==============================] - 0s 25ms/step\n",
            "[[1.6360003e-05 9.9998367e-01]]\n",
            "Filled\n",
            "reading : 2ci 1 2.jpg\n",
            "1/1 [==============================] - 0s 22ms/step\n",
            "[[6.241526e-06 9.999938e-01]]\n",
            "Filled\n",
            "reading : 2ci 1 3.jpg\n",
            "1/1 [==============================] - 0s 22ms/step\n",
            "[[1.3065775e-04 9.9986935e-01]]\n",
            "Filled\n",
            "reading : 2ci 2 0.jpg\n",
            "1/1 [==============================] - 0s 31ms/step\n",
            "[[6.4942396e-05 9.9993503e-01]]\n",
            "Filled\n",
            "reading : 2ci 2 1.jpg\n",
            "1/1 [==============================] - 0s 26ms/step\n",
            "[[2.8268714e-04 9.9971730e-01]]\n",
            "Filled\n",
            "reading : 2ci 2 2.jpg\n",
            "1/1 [==============================] - 0s 26ms/step\n",
            "[[5.0149084e-04 9.9949849e-01]]\n",
            "Filled\n",
            "reading : 2ci 2 3.jpg\n",
            "1/1 [==============================] - 0s 19ms/step\n",
            "[[7.8387826e-04 9.9921608e-01]]\n",
            "Filled\n",
            "reading : 2ci 3 0.jpg\n",
            "1/1 [==============================] - 0s 29ms/step\n",
            "[[6.8836793e-04 9.9931169e-01]]\n",
            "Filled\n",
            "reading : 2ci 3 1.jpg\n",
            "1/1 [==============================] - 0s 26ms/step\n",
            "[[9.4491261e-05 9.9990547e-01]]\n",
            "Filled\n",
            "reading : 2ci 3 2.jpg\n",
            "1/1 [==============================] - 0s 32ms/step\n",
            "[[6.070821e-06 9.999939e-01]]\n",
            "Filled\n",
            "reading : 2ci 3 3.jpg\n",
            "1/1 [==============================] - 0s 20ms/step\n",
            "[[3.2847009e-07 9.9999964e-01]]\n",
            "Filled\n",
            "reading : 2ci 4 0.jpg\n",
            "1/1 [==============================] - 0s 20ms/step\n",
            "[[7.595421e-08 9.999999e-01]]\n",
            "Filled\n",
            "reading : 2ci 4 1.jpg\n",
            "1/1 [==============================] - 0s 25ms/step\n",
            "[[1.4083843e-08 1.0000000e+00]]\n",
            "Filled\n",
            "reading : 2ci 4 2.jpg\n",
            "1/1 [==============================] - 0s 23ms/step\n",
            "[[7.465783e-11 1.000000e+00]]\n",
            "Filled\n",
            "reading : 2ci 4 3.jpg\n",
            "1/1 [==============================] - 0s 25ms/step\n",
            "[[7.4266344e-09 1.0000000e+00]]\n",
            "Filled\n"
          ]
        }
      ]
    },
    {
      "cell_type": "code",
      "source": [
        "from keras.preprocessing import image\n",
        "import numpy as np\n",
        "st = '1ci 0 3.jpg'\n",
        "print('reading :',st)\n",
        "img_pred = cv2.imread(r\"img/test/\"+st)\n",
        "img_pred = cv2.resize(img_pred,(60,25))\n",
        "img_pred = np.expand_dims(img_pred,axis=0)\n",
        "img_pred = np.array(img_pred)\n",
        "res = model.predict(img_pred)\n",
        "print(res)\n",
        "\n",
        "if res[0][0] > res[0][1]:\n",
        "  print('Filled')\n",
        "else:\n",
        "  print('Blanked')"
      ],
      "metadata": {
        "colab": {
          "base_uri": "https://localhost:8080/"
        },
        "id": "p9hgGvpHHLVp",
        "outputId": "309f0749-cb47-455a-b306-c50ca9dd5339"
      },
      "execution_count": null,
      "outputs": [
        {
          "output_type": "stream",
          "name": "stdout",
          "text": [
            "reading : 1ci 0 3.jpg\n",
            "1/1 [==============================] - 0s 21ms/step\n",
            "[[9.9995506e-01 4.4911369e-05]]\n",
            "Filled\n"
          ]
        }
      ]
    }
  ]
}