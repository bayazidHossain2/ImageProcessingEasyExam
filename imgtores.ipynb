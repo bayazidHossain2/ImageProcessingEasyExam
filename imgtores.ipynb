{
  "nbformat": 4,
  "nbformat_minor": 0,
  "metadata": {
    "colab": {
      "provenance": []
    },
    "kernelspec": {
      "name": "python3",
      "display_name": "Python 3"
    },
    "language_info": {
      "name": "python"
    }
  },
  "cells": [
    {
      "cell_type": "markdown",
      "source": [
        "#Training the model"
      ],
      "metadata": {
        "id": "kyvCz3RIKYwG"
      }
    },
    {
      "cell_type": "code",
      "source": [
        "import cv2\n",
        "import os\n",
        "import random\n",
        "import numpy as np \n",
        "import matplotlib.pyplot as plt \n",
        "\n",
        "dir = r\"img\"\n",
        "catagories = ['bbox','fbox']\n",
        "\n",
        "data = list()\n",
        "for catagory in catagories:\n",
        "  folder = os.path.join(dir,catagory)\n",
        "  print(folder)\n",
        "  label = catagories.index(catagory)\n",
        "\n",
        "  for img in os.listdir(folder):\n",
        "    img = os.path.join(folder,img)\n",
        "    #print(img)\n",
        "    img_arr = cv2.imread(img)\n",
        "    img_arr = cv2.resize(img_arr,(60,25))\n",
        "    data.append([img_arr,label])\n",
        "\n",
        "  random.shuffle(data)\n",
        "\n",
        "  x = list()\n",
        "y = list()\n",
        "for features,label in data:\n",
        "  x.append(features)\n",
        "  y.append(label)\n",
        "\n",
        "x = np.array(x)\n",
        "y = np.array(y)\n",
        "\n",
        "\n",
        "import tensorflow as tf\n",
        "from tensorflow import keras\n",
        "from tensorflow.keras.models import Sequential\n",
        "from tensorflow.keras.layers import Conv2D,MaxPooling2D,Flatten,Dense,Activation\n",
        "\n",
        "model = Sequential()\n",
        "model.add(Conv2D(30,(3,3),input_shape=x.shape[1:],activation='relu'))\n",
        "model.add(MaxPooling2D(pool_size=(2,2)))\n",
        "\n",
        "model.add(Conv2D(30,(3,3),input_shape=x.shape[1:],activation='relu'))\n",
        "model.add(MaxPooling2D(pool_size=(2,2)))\n",
        "\n",
        "model.add(Flatten())\n",
        "model.add(Dense(2,activation='softmax'))\n",
        "\n",
        "\n",
        "model.compile(loss='sparse_categorical_crossentropy',optimizer='adam',metrics=['accuracy'])\n",
        "\n",
        "model.fit(x,y,epochs=15,validation_split=0.1)\n"
      ],
      "metadata": {
        "colab": {
          "base_uri": "https://localhost:8080/"
        },
        "id": "84lzyLuqKco-",
        "outputId": "7ddd4fa4-21e7-4fcc-a277-ad0b9bb50af6"
      },
      "execution_count": 21,
      "outputs": [
        {
          "output_type": "stream",
          "name": "stdout",
          "text": [
            "img/bbox\n",
            "img/fbox\n",
            "Epoch 1/15\n",
            "8/8 [==============================] - 1s 83ms/step - loss: 18.5865 - accuracy: 0.4915 - val_loss: 9.1006 - val_accuracy: 0.4231\n",
            "Epoch 2/15\n",
            "8/8 [==============================] - 0s 58ms/step - loss: 4.8525 - accuracy: 0.5000 - val_loss: 1.9841 - val_accuracy: 0.5769\n",
            "Epoch 3/15\n",
            "8/8 [==============================] - 0s 56ms/step - loss: 1.8143 - accuracy: 0.6880 - val_loss: 1.6074 - val_accuracy: 0.5385\n",
            "Epoch 4/15\n",
            "8/8 [==============================] - 0s 57ms/step - loss: 1.2750 - accuracy: 0.7607 - val_loss: 0.7202 - val_accuracy: 0.7308\n",
            "Epoch 5/15\n",
            "8/8 [==============================] - 0s 58ms/step - loss: 0.7423 - accuracy: 0.8718 - val_loss: 0.5989 - val_accuracy: 0.6538\n",
            "Epoch 6/15\n",
            "8/8 [==============================] - 0s 56ms/step - loss: 0.4847 - accuracy: 0.8675 - val_loss: 0.3728 - val_accuracy: 0.8462\n",
            "Epoch 7/15\n",
            "8/8 [==============================] - 0s 56ms/step - loss: 0.4268 - accuracy: 0.8718 - val_loss: 0.5546 - val_accuracy: 0.8077\n",
            "Epoch 8/15\n",
            "8/8 [==============================] - 0s 55ms/step - loss: 0.3490 - accuracy: 0.8932 - val_loss: 0.9302 - val_accuracy: 0.7692\n",
            "Epoch 9/15\n",
            "8/8 [==============================] - 0s 55ms/step - loss: 0.2574 - accuracy: 0.9188 - val_loss: 0.9692 - val_accuracy: 0.7692\n",
            "Epoch 10/15\n",
            "8/8 [==============================] - 0s 56ms/step - loss: 0.1227 - accuracy: 0.9487 - val_loss: 0.6579 - val_accuracy: 0.7692\n",
            "Epoch 11/15\n",
            "8/8 [==============================] - 0s 56ms/step - loss: 0.0788 - accuracy: 0.9658 - val_loss: 0.5867 - val_accuracy: 0.8462\n",
            "Epoch 12/15\n",
            "8/8 [==============================] - 0s 56ms/step - loss: 0.0229 - accuracy: 0.9957 - val_loss: 0.5846 - val_accuracy: 0.8462\n",
            "Epoch 13/15\n",
            "8/8 [==============================] - 0s 56ms/step - loss: 0.0298 - accuracy: 0.9915 - val_loss: 0.4241 - val_accuracy: 0.8846\n",
            "Epoch 14/15\n",
            "8/8 [==============================] - 0s 55ms/step - loss: 0.0173 - accuracy: 0.9957 - val_loss: 0.4822 - val_accuracy: 0.8462\n",
            "Epoch 15/15\n",
            "8/8 [==============================] - 0s 57ms/step - loss: 0.0119 - accuracy: 0.9957 - val_loss: 0.4679 - val_accuracy: 0.8462\n"
          ]
        },
        {
          "output_type": "execute_result",
          "data": {
            "text/plain": [
              "<keras.callbacks.History at 0x7f1204eda400>"
            ]
          },
          "metadata": {},
          "execution_count": 21
        }
      ]
    },
    {
      "cell_type": "markdown",
      "source": [
        "#Preprossing image\n"
      ],
      "metadata": {
        "id": "mRjLX044LhSd"
      }
    },
    {
      "cell_type": "code",
      "source": [
        "img = cv2.imread(\"img/test3.jpg\")\n",
        "img = cv2.resize(img,(625,810))\n",
        "#print(img.shape)\n",
        "\n",
        "data = list()\n",
        "ini = 90-10\n",
        "#crop_img = img[100:125,30:62]\n",
        "#plt.imshow(crop_img)\n",
        "\n",
        "for i in range(5):\n",
        "    for j in range(4):\n",
        "        crop_img = img[ini:ini+25,20:80]\n",
        "        ini = ini+22\n",
        "        pt = 'img/test/ci '+str(i)+' '+str(j)+'.jpg'\n",
        "        cv2.imwrite(pt, crop_img)\n",
        "        print('success : ',pt)\n",
        "    ini = ini + 20"
      ],
      "metadata": {
        "colab": {
          "base_uri": "https://localhost:8080/"
        },
        "id": "CMyrXlvBLo7g",
        "outputId": "40f8c28f-2976-470b-f6ce-5db21e8c037b"
      },
      "execution_count": 22,
      "outputs": [
        {
          "output_type": "stream",
          "name": "stdout",
          "text": [
            "success :  img/test/ci 0 0.jpg\n",
            "success :  img/test/ci 0 1.jpg\n",
            "success :  img/test/ci 0 2.jpg\n",
            "success :  img/test/ci 0 3.jpg\n",
            "success :  img/test/ci 1 0.jpg\n",
            "success :  img/test/ci 1 1.jpg\n",
            "success :  img/test/ci 1 2.jpg\n",
            "success :  img/test/ci 1 3.jpg\n",
            "success :  img/test/ci 2 0.jpg\n",
            "success :  img/test/ci 2 1.jpg\n",
            "success :  img/test/ci 2 2.jpg\n",
            "success :  img/test/ci 2 3.jpg\n",
            "success :  img/test/ci 3 0.jpg\n",
            "success :  img/test/ci 3 1.jpg\n",
            "success :  img/test/ci 3 2.jpg\n",
            "success :  img/test/ci 3 3.jpg\n",
            "success :  img/test/ci 4 0.jpg\n",
            "success :  img/test/ci 4 1.jpg\n",
            "success :  img/test/ci 4 2.jpg\n",
            "success :  img/test/ci 4 3.jpg\n"
          ]
        }
      ]
    },
    {
      "cell_type": "markdown",
      "source": [
        "#Testing the data using Trained Model"
      ],
      "metadata": {
        "id": "5oh4dDG1Mkf5"
      }
    },
    {
      "cell_type": "code",
      "source": [
        "for i in range(5):\n",
        "  for j in range(4):\n",
        "    st = 'ci '+str(i)+' '+str(j)+'.jpg'\n",
        "    print('reading :',st)\n",
        "    img_pred = cv2.imread(r\"img/test/\"+st)\n",
        "    img_pred = cv2.resize(img_pred,(60,25))\n",
        "    img_pred = np.expand_dims(img_pred,axis=0)\n",
        "    img_pred = np.array(img_pred)\n",
        "    res = model.predict(img_pred)\n",
        "    print(res)\n",
        "\n",
        "    if res[0][0] > res[0][1]:\n",
        "      print('Filled')\n",
        "    else:\n",
        "      print('Blanked')"
      ],
      "metadata": {
        "colab": {
          "base_uri": "https://localhost:8080/"
        },
        "id": "okOGGX8AMjRD",
        "outputId": "af65b495-5a26-4fea-ec49-7c87f63691d1"
      },
      "execution_count": 23,
      "outputs": [
        {
          "output_type": "stream",
          "name": "stdout",
          "text": [
            "reading : ci 0 0.jpg\n",
            "1/1 [==============================] - 0s 78ms/step\n",
            "[[0.22991323 0.7700868 ]]\n",
            "Blanked\n",
            "reading : ci 0 1.jpg\n",
            "1/1 [==============================] - 0s 24ms/step\n",
            "[[0.00848683 0.9915132 ]]\n",
            "Blanked\n",
            "reading : ci 0 2.jpg\n",
            "1/1 [==============================] - 0s 24ms/step\n",
            "[[0.01356666 0.98643327]]\n",
            "Blanked\n",
            "reading : ci 0 3.jpg\n",
            "1/1 [==============================] - 0s 21ms/step\n",
            "[[0.00477195 0.99522805]]\n",
            "Blanked\n",
            "reading : ci 1 0.jpg\n",
            "1/1 [==============================] - 0s 23ms/step\n",
            "[[0.03846125 0.96153873]]\n",
            "Blanked\n",
            "reading : ci 1 1.jpg\n",
            "1/1 [==============================] - 0s 20ms/step\n",
            "[[0.0528212  0.94717884]]\n",
            "Blanked\n",
            "reading : ci 1 2.jpg\n",
            "1/1 [==============================] - 0s 21ms/step\n",
            "[[0.0086407  0.99135935]]\n",
            "Blanked\n",
            "reading : ci 1 3.jpg\n",
            "1/1 [==============================] - 0s 21ms/step\n",
            "[[0.00363291 0.9963671 ]]\n",
            "Blanked\n",
            "reading : ci 2 0.jpg\n",
            "1/1 [==============================] - 0s 29ms/step\n",
            "[[0.00777308 0.99222696]]\n",
            "Blanked\n",
            "reading : ci 2 1.jpg\n",
            "1/1 [==============================] - 0s 21ms/step\n",
            "[[0.29339606 0.7066039 ]]\n",
            "Blanked\n",
            "reading : ci 2 2.jpg\n",
            "1/1 [==============================] - 0s 22ms/step\n",
            "[[0.23260196 0.76739806]]\n",
            "Blanked\n",
            "reading : ci 2 3.jpg\n",
            "1/1 [==============================] - 0s 23ms/step\n",
            "[[0.060684   0.93931603]]\n",
            "Blanked\n",
            "reading : ci 3 0.jpg\n",
            "1/1 [==============================] - 0s 32ms/step\n",
            "[[0.3481449  0.65185505]]\n",
            "Blanked\n",
            "reading : ci 3 1.jpg\n",
            "1/1 [==============================] - 0s 22ms/step\n",
            "[[0.83534825 0.16465172]]\n",
            "Filled\n",
            "reading : ci 3 2.jpg\n",
            "1/1 [==============================] - 0s 22ms/step\n",
            "[[0.8013269  0.19867313]]\n",
            "Filled\n",
            "reading : ci 3 3.jpg\n",
            "1/1 [==============================] - 0s 23ms/step\n",
            "[[0.6031174 0.3968826]]\n",
            "Filled\n",
            "reading : ci 4 0.jpg\n",
            "1/1 [==============================] - 0s 21ms/step\n",
            "[[0.8443954  0.15560459]]\n",
            "Filled\n",
            "reading : ci 4 1.jpg\n",
            "1/1 [==============================] - 0s 22ms/step\n",
            "[[0.25598866 0.74401134]]\n",
            "Blanked\n",
            "reading : ci 4 2.jpg\n",
            "1/1 [==============================] - 0s 22ms/step\n",
            "[[0.12517281 0.8748272 ]]\n",
            "Blanked\n",
            "reading : ci 4 3.jpg\n",
            "1/1 [==============================] - 0s 22ms/step\n",
            "[[0.14612003 0.8538799 ]]\n",
            "Blanked\n"
          ]
        }
      ]
    }
  ]
}